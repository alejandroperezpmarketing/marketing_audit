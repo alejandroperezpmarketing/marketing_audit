{
 "cells": [
  {
   "cell_type": "code",
   "execution_count": 1,
   "id": "22845a82",
   "metadata": {},
   "outputs": [
    {
     "name": "stderr",
     "output_type": "stream",
     "text": [
      "[nltk_data] Downloading package vader_lexicon to C:\\Users\\Alejandro\n",
      "[nltk_data]     Perez\\AppData\\Roaming\\nltk_data...\n",
      "[nltk_data]   Package vader_lexicon is already up-to-date!\n"
     ]
    }
   ],
   "source": [
    "#importing required packages\n",
    "\n",
    "#for text\n",
    "from nltk.tokenize import word_tokenize, sent_tokenize\n",
    "import nltk\n",
    "from nltk.corpus import stopwords\n",
    "from string  import punctuation\n",
    "from nltk.collocations import *\n",
    "from nltk.stem.lancaster import LancasterStemmer\n",
    "from nltk.corpus import wordnet as wn\n",
    "from nltk.wsd import lesk\n",
    "from nltk.probability  import FreqDist\n",
    "from heapq import nlargest\n",
    "from collections import defaultdict\n",
    "\n",
    "\n",
    "#for donwload the webpage\n",
    "\n",
    "import requests\n",
    "import webbrowser\n",
    "from bs4 import BeautifulSoup\n",
    "import httplib2\n",
    "import httpbin\n",
    "import requests\n",
    "import httplib2\n",
    "import urllib\n",
    "import pandas as pd\n",
    "import numpy as np\n",
    "import webbrowser\n",
    "from pprint import pprint\n",
    "import json \n",
    "\n",
    "#for sentiments analysis\n",
    "\n",
    "import twitter\n",
    "import json\n",
    "from collections import Counter\n",
    "import os \n",
    "import nltk\n",
    "nltk.download('vader_lexicon')\n",
    "import matplotlib.pyplot as plt\n",
    "from prettytable import PrettyTable\n",
    "from collections import Counter\n",
    "import numpy as np\n",
    "from nltk.sentiment.vader import SentimentIntensityAnalyzer\n",
    "\n",
    "import numpy as np\n",
    "import pandas as pd\n",
    "import matplotlib.pyplot as plt\n",
    "%matplotlib inline\n",
    "\n",
    "from nltk.corpus import stopwords\n",
    "from textblob import TextBlob\n",
    "from textblob import Word"
   ]
  },
  {
   "cell_type": "markdown",
   "id": "ca52f549",
   "metadata": {},
   "source": [
    "# URL"
   ]
  },
  {
   "cell_type": "code",
   "execution_count": 2,
   "id": "533c4675",
   "metadata": {},
   "outputs": [],
   "source": [
    "celi_garoe_url = 'https://celigaroe.com/'"
   ]
  },
  {
   "cell_type": "code",
   "execution_count": 3,
   "id": "4efbba27",
   "metadata": {},
   "outputs": [],
   "source": [
    "http = httplib2.Http()"
   ]
  },
  {
   "cell_type": "markdown",
   "id": "386ed120",
   "metadata": {},
   "source": [
    "# Extracción de head y body html de cada página"
   ]
  },
  {
   "cell_type": "code",
   "execution_count": 4,
   "id": "bfb3c5e5",
   "metadata": {},
   "outputs": [],
   "source": [
    "resp_celi_garoe, data_celi_garoe = http.request(celi_garoe_url)"
   ]
  },
  {
   "cell_type": "code",
   "execution_count": 5,
   "id": "65a48038",
   "metadata": {},
   "outputs": [],
   "source": [
    "# Codificando el html - body\n",
    "\n",
    "celi_garoe_html = data_celi_garoe.decode('UTF-8')\n",
    "\n",
    "# Limpieza de  codigo html\n",
    "\n",
    "soup_celi_garoe = BeautifulSoup(celi_garoe_html)\n"
   ]
  },
  {
   "cell_type": "code",
   "execution_count": 6,
   "id": "229863b0",
   "metadata": {},
   "outputs": [],
   "source": [
    "cells = soup_celi_garoe.find_all(['p', 'span', 'h1', 'h2', 'h3', 'h4', 'li' 'ul'])\n",
    "for cell in cells:\n",
    "    print(cell.text.strip())"
   ]
  },
  {
   "cell_type": "code",
   "execution_count": 7,
   "id": "aee37812",
   "metadata": {},
   "outputs": [
    {
     "data": {
      "text/plain": [
       "''"
      ]
     },
     "execution_count": 7,
     "metadata": {},
     "output_type": "execute_result"
    }
   ],
   "source": [
    "text = ' '.join(map(lambda p: p.text, soup_celi_garoe.find_all(['p', 'span', 'h1', 'h2', 'h3', 'h4', 'li' 'ul'])))\n",
    "text"
   ]
  },
  {
   "cell_type": "code",
   "execution_count": null,
   "id": "a129288f",
   "metadata": {},
   "outputs": [],
   "source": []
  },
  {
   "cell_type": "code",
   "execution_count": null,
   "id": "52fd7866",
   "metadata": {},
   "outputs": [],
   "source": []
  }
 ],
 "metadata": {
  "kernelspec": {
   "display_name": "Python 3",
   "language": "python",
   "name": "python3"
  },
  "language_info": {
   "codemirror_mode": {
    "name": "ipython",
    "version": 3
   },
   "file_extension": ".py",
   "mimetype": "text/x-python",
   "name": "python",
   "nbconvert_exporter": "python",
   "pygments_lexer": "ipython3",
   "version": "3.8.8"
  }
 },
 "nbformat": 4,
 "nbformat_minor": 5
}
