{
 "cells": [
  {
   "cell_type": "markdown",
   "id": "1c0b147b",
   "metadata": {},
   "source": [
    "# Importando librerías"
   ]
  },
  {
   "cell_type": "code",
   "execution_count": 24,
   "id": "4eb23dd4",
   "metadata": {},
   "outputs": [],
   "source": [
    "import requests\n",
    "import webbrowser\n",
    "from bs4 import BeautifulSoup\n",
    "import httplib2\n",
    "import httpbin\n",
    "import requests\n",
    "import httplib2\n",
    "import urllib\n",
    "import pandas as pd\n",
    "import numpy as np\n",
    "import webbrowser\n",
    "from pprint import pprint"
   ]
  },
  {
   "cell_type": "markdown",
   "id": "a5c256e5",
   "metadata": {},
   "source": [
    "# URLs"
   ]
  },
  {
   "cell_type": "code",
   "execution_count": 5,
   "id": "065374a5",
   "metadata": {},
   "outputs": [],
   "source": [
    "bin_url = 'http://httpbin.org/'\n",
    "nattule_url = 'https://web.nattule.com/es/'\n",
    "btbw_url = 'https://btbwagency.com/'\n",
    "autanaprojects_url = 'https://autanaprojects.com/'\n",
    "asiri_url = 'https://asiri.es/'\n",
    "inturea_url = 'https://inturea.com/'\n",
    "JoanMarco_url = 'https://joanmarco.com/'\n",
    "celi_garoe_url = 'https://celigaroe.com/'\n",
    "textology_url = 'https://textology.es/'\n",
    "clarence_url = 'https://www.clarencemanel.com/'"
   ]
  },
  {
   "cell_type": "code",
   "execution_count": 6,
   "id": "429bb7fc",
   "metadata": {},
   "outputs": [],
   "source": [
    "http = httplib2.Http()"
   ]
  },
  {
   "cell_type": "markdown",
   "id": "6dc63965",
   "metadata": {},
   "source": [
    "# Extracción de head y body html de cada página"
   ]
  },
  {
   "cell_type": "code",
   "execution_count": 7,
   "id": "b4b403d2",
   "metadata": {},
   "outputs": [],
   "source": [
    "resp_nattule, data_nattule = http.request(nattule_url)\n",
    "resp_btbw, data_btbw = http.request(btbw_url)\n",
    "resp_autanaprojects, data_autanaprojects = http.request(autanaprojects_url)\n",
    "resp_asiri, data_asiri = http.request(asiri_url)\n",
    "resp_inturea, data_inturea = http.request(inturea_url)\n",
    "resp_JoanMarco, data_JoanMarco = http.request(JoanMarco_url)\n",
    "resp_celi_garoe, data_celi_garoe = http.request(celi_garoe_url)\n",
    "resp_textology, data_textology = http.request(textology_url)\n",
    "resp_clarence, data_clarence = http.request(clarence_url)"
   ]
  },
  {
   "cell_type": "markdown",
   "id": "b2701d63",
   "metadata": {},
   "source": [
    "# Codificando el html - body"
   ]
  },
  {
   "cell_type": "code",
   "execution_count": 26,
   "id": "319c73f0",
   "metadata": {},
   "outputs": [],
   "source": [
    "nattule_html = data_nattule.decode('UTF-8')\n",
    "btbw_html = data_btbw.decode('UTF-8')\n",
    "autanaprojects_html = data_autanaprojects.decode('UTF-8')\n",
    "asiri_html = data_asiri.decode('UTF-8')\n",
    "inturea_html = data_inturea.decode('UTF-8')\n",
    "JoanMarco_html = data_JoanMarco.decode('UTF-8')\n",
    "celi_garoe_html = data_celi_garoe.decode('UTF-8')\n",
    "textology_html = data_textology.decode('UTF-8')\n",
    "clarence_html = data_clarence.decode('UTF-8')"
   ]
  },
  {
   "cell_type": "markdown",
   "id": "18ea2576",
   "metadata": {},
   "source": [
    "# Limpieza de  codigo html"
   ]
  },
  {
   "cell_type": "code",
   "execution_count": 30,
   "id": "6e1b7f95",
   "metadata": {},
   "outputs": [],
   "source": [
    "soup_nattule = BeautifulSoup(nattule_html).prettify()\n",
    "soup_btbw = BeautifulSoup(btbw_html).prettify()\n",
    "soup_autanaprojects = BeautifulSoup(autanaprojects_html).prettify()\n",
    "soup_asiri = BeautifulSoup(asiri_html).prettify()\n",
    "soup_inturea = BeautifulSoup(inturea_html).prettify()\n",
    "soup_JoanMarco = BeautifulSoup(JoanMarco_html).prettify()\n",
    "soup_celi_garoe = BeautifulSoup(celi_garoe_html).prettify()\n",
    "soup_textology = BeautifulSoup(textology_html).prettify()\n",
    "soup_clarence = BeautifulSoup(clarence_html).prettify()"
   ]
  },
  {
   "cell_type": "code",
   "execution_count": null,
   "id": "0aeda331",
   "metadata": {},
   "outputs": [],
   "source": []
  },
  {
   "cell_type": "code",
   "execution_count": null,
   "id": "a752bdf4",
   "metadata": {},
   "outputs": [],
   "source": []
  },
  {
   "cell_type": "code",
   "execution_count": null,
   "id": "c41d71b1",
   "metadata": {},
   "outputs": [],
   "source": []
  }
 ],
 "metadata": {
  "kernelspec": {
   "display_name": "Python 3 (ipykernel)",
   "language": "python",
   "name": "python3"
  },
  "language_info": {
   "codemirror_mode": {
    "name": "ipython",
    "version": 3
   },
   "file_extension": ".py",
   "mimetype": "text/x-python",
   "name": "python",
   "nbconvert_exporter": "python",
   "pygments_lexer": "ipython3",
   "version": "3.8.11"
  }
 },
 "nbformat": 4,
 "nbformat_minor": 5
}
